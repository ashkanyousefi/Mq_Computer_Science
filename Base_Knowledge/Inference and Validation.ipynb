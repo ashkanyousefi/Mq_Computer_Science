{
 "cells": [
  {
   "cell_type": "markdown",
   "metadata": {},
   "source": [
    "# Inference and Validation\n",
    "\n",
    "Now that you have a trained network, you can use it for making predictions. This is typically called **inference**, a term borrowed from statistics. However, neural networks have a tendency to perform *too well* on the training data and aren't able to generalize to data that hasn't been seen before. This is called **overfitting** and it impairs inference performance. To test for overfitting while training, we measure the performance on data not in the training set called the **validation** set. We avoid overfitting through regularization such as dropout while monitoring the validation performance during training. In this notebook, I'll show you how to do this in PyTorch. \n",
    "\n",
    "As usual, let's start by loading the dataset through torchvision. You'll learn more about torchvision and loading data in a later part. This time we'll be taking advantage of the test set which you can get by setting `train=False` here:\n",
    "\n",
    "```python\n",
    "testset = datasets.FashionMNIST('~/.pytorch/F_MNIST_data/', download=True, train=False, transform=transform)\n",
    "```\n",
    "\n",
    "The test set contains images just like the training set. Typically you'll see 10-20% of the original dataset held out for testing and validation with the rest being used for training."
   ]
  },
  {
   "cell_type": "code",
   "execution_count": 4,
   "metadata": {},
   "outputs": [],
   "source": [
    "import torch\n",
    "from torchvision import datasets, transforms\n",
    "\n",
    "# Define a transform to normalize the data\n",
    "transform = transforms.Compose([transforms.ToTensor(),\n",
    "                                transforms.Normalize((0.5, 0.5, 0.5), (0.5, 0.5, 0.5))])\n",
    "# Download and load the training data\n",
    "trainset = datasets.FashionMNIST('~/.pytorch/F_MNIST_data/', download=True, train=True, transform=transform)\n",
    "trainloader = torch.utils.data.DataLoader(trainset, batch_size=64, shuffle=True)\n",
    "\n",
    "# Download and load the test data\n",
    "testset = datasets.FashionMNIST('~/.pytorch/F_MNIST_data/', download=True, train=False, transform=transform)\n",
    "testloader = torch.utils.data.DataLoader(testset, batch_size=64, shuffle=True)"
   ]
  },
  {
   "cell_type": "markdown",
   "metadata": {},
   "source": [
    "Here I'll create a model like normal, using the same one from my solution for part 4."
   ]
  },
  {
   "cell_type": "code",
   "execution_count": 5,
   "metadata": {},
   "outputs": [],
   "source": [
    "from torch import nn, optim\n",
    "import torch.nn.functional as F\n",
    "\n",
    "class Classifier(nn.Module):\n",
    "    def __init__(self):\n",
    "        super().__init__()\n",
    "        self.fc1 = nn.Linear(784, 256)\n",
    "        self.fc2 = nn.Linear(256, 128)\n",
    "        self.fc3 = nn.Linear(128, 64)\n",
    "        self.fc4 = nn.Linear(64, 10)\n",
    "        \n",
    "    def forward(self, x):\n",
    "        # make sure input tensor is flattened\n",
    "        x = x.view(x.shape[0], -1)\n",
    "        \n",
    "        x = F.relu(self.fc1(x))\n",
    "        x = F.relu(self.fc2(x))\n",
    "        x = F.relu(self.fc3(x))\n",
    "        x = F.log_softmax(self.fc4(x), dim=1)\n",
    "        \n",
    "        return x"
   ]
  },
  {
   "cell_type": "markdown",
   "metadata": {},
   "source": [
    "The goal of validation is to measure the model's performance on data that isn't part of the training set. Performance here is up to the developer to define though. Typically this is just accuracy, the percentage of classes the network predicted correctly. Other options are [precision and recall](https://en.wikipedia.org/wiki/Precision_and_recall#Definition_(classification_context)) and top-5 error rate. We'll focus on accuracy here. First I'll do a forward pass with one batch from the test set."
   ]
  },
  {
   "cell_type": "code",
   "execution_count": 6,
   "metadata": {},
   "outputs": [
    {
     "name": "stdout",
     "output_type": "stream",
     "text": [
      "\n",
      "torch.Size([64, 10])\n"
     ]
    }
   ],
   "source": [
    "model = Classifier()\n",
    "\n",
    "images, labels = next(iter(testloader))\n",
    "# Get the class probabilities\n",
    "ps = torch.exp(model(images))\n",
    "# Make sure the shape is appropriate, we should get 10 class probabilities for 64 examples\n",
    "print()\n",
    "print(ps.shape)"
   ]
  },
  {
   "cell_type": "markdown",
   "metadata": {},
   "source": [
    "With the probabilities, we can get the most likely class using the `ps.topk` method. This returns the $k$ highest values. Since we just want the most likely class, we can use `ps.topk(1)`. This returns a tuple of the top-$k$ values and the top-$k$ indices. If the highest value is the fifth element, we'll get back 4 as the index."
   ]
  },
  {
   "cell_type": "code",
   "execution_count": 9,
   "metadata": {
    "scrolled": true
   },
   "outputs": [
    {
     "name": "stdout",
     "output_type": "stream",
     "text": [
      "tensor([[ 4],\n",
      "        [ 4],\n",
      "        [ 8],\n",
      "        [ 1],\n",
      "        [ 8],\n",
      "        [ 8],\n",
      "        [ 1],\n",
      "        [ 7],\n",
      "        [ 8],\n",
      "        [ 8]])\n"
     ]
    }
   ],
   "source": [
    "top_p, top_class = ps.topk(1, dim=1)\n",
    "# Look at the most likely classes for the first 10 examples\n",
    "print(top_class[:10,:])"
   ]
  },
  {
   "cell_type": "markdown",
   "metadata": {},
   "source": [
    "Now we can check if the predicted classes match the labels. This is simple to do by equating `top_class` and `labels`, but we have to be careful of the shapes. Here `top_class` is a 2D tensor with shape `(64, 1)` while `labels` is 1D with shape `(64)`. To get the equality to work out the way we want, `top_class` and `labels` must have the same shape.\n",
    "\n",
    "If we do\n",
    "\n",
    "```python\n",
    "equals = top_class == labels\n",
    "```\n",
    "\n",
    "`equals` will have shape `(64, 64)`, try it yourself. What it's doing is comparing the one element in each row of `top_class` with each element in `labels` which returns 64 True/False boolean values for each row."
   ]
  },
  {
   "cell_type": "code",
   "execution_count": 18,
   "metadata": {
    "scrolled": true
   },
   "outputs": [],
   "source": [
    "equals = (top_class == labels.view(*top_class.shape))"
   ]
  },
  {
   "cell_type": "markdown",
   "metadata": {},
   "source": [
    "Now we need to calculate the percentage of correct predictions. `equals` has binary values, either 0 or 1. This means that if we just sum up all the values and divide by the number of values, we get the percentage of correct predictions. This is the same operation as taking the mean, so we can get the accuracy with a call to `torch.mean`. If only it was that simple. If you try `torch.mean(equals)`, you'll get an error\n",
    "\n",
    "```\n",
    "RuntimeError: mean is not implemented for type torch.ByteTensor\n",
    "```\n",
    "\n",
    "This happens because `equals` has type `torch.ByteTensor` but `torch.mean` isn't implemented for tensors with that type. So we'll need to convert `equals` to a float tensor. Note that when we take `torch.mean` it returns a scalar tensor, to get the actual value as a float we'll need to do `accuracy.item()`."
   ]
  },
  {
   "cell_type": "code",
   "execution_count": 7,
   "metadata": {
    "scrolled": true
   },
   "outputs": [
    {
     "name": "stdout",
     "output_type": "stream",
     "text": [
      "Accuracy: 7.8125%\n"
     ]
    }
   ],
   "source": [
    "accuracy = torch.mean(equals.type(torch.FloatTensor))\n",
    "print(f'Accuracy: {accuracy.item()*100}%')"
   ]
  },
  {
   "cell_type": "code",
   "execution_count": null,
   "metadata": {},
   "outputs": [],
   "source": []
  },
  {
   "cell_type": "markdown",
   "metadata": {},
   "source": [
    "The network is untrained so it's making random guesses and we should see an accuracy around 10%. Now let's train our network and include our validation pass so we can measure how well the network is performing on the test set. Since we're not updating our parameters in the validation pass, we can speed up our code by turning off gradients using `torch.no_grad()`:\n",
    "\n",
    "```python\n",
    "# turn off gradients\n",
    "with torch.no_grad():\n",
    "    # validation pass here\n",
    "    for images, labels in testloader:\n",
    "        ...\n",
    "```\n",
    "\n",
    ">**Exercise:** Implement the validation loop below and print out the total accuracy after the loop. You can largely copy and paste the code from above, but I suggest typing it in because writing it out yourself is essential for building the skill. In general you'll always learn more by typing it rather than copy-pasting. You should be able to get an accuracy above 80%."
   ]
  },
  {
   "cell_type": "code",
   "execution_count": 25,
   "metadata": {},
   "outputs": [
    {
     "name": "stdout",
     "output_type": "stream",
     "text": [
      "Accuracy: 87.5%\n",
      "Test loss =0.4488799571990967 and Train loss =0.5186485968895559\n",
      "Accuracy: 75.0%\n",
      "Test loss =0.45981961488723755 and Train loss =0.39237560153102824\n",
      "Accuracy: 93.75%\n",
      "Test loss =0.4409312307834625 and Train loss =0.35242249768997813\n",
      "Accuracy: 75.0%\n",
      "Test loss =0.41977983713150024 and Train loss =0.3327999731053167\n",
      "Accuracy: 87.5%\n",
      "Test loss =0.39047759771347046 and Train loss =0.3139485589730968\n",
      "Accuracy: 87.5%\n",
      "Test loss =0.40595659613609314 and Train loss =0.3008686509976255\n",
      "Accuracy: 87.5%\n",
      "Test loss =0.3622826337814331 and Train loss =0.29342279221012646\n",
      "Accuracy: 62.5%\n",
      "Test loss =0.36986932158470154 and Train loss =0.2822010390349288\n",
      "Accuracy: 87.5%\n",
      "Test loss =0.36673280596733093 and Train loss =0.2730136323712274\n",
      "Accuracy: 87.5%\n",
      "Test loss =0.38204002380371094 and Train loss =0.2684740411209018\n",
      "Accuracy: 93.75%\n",
      "Test loss =0.36269882321357727 and Train loss =0.2594108406637015\n",
      "Accuracy: 87.5%\n",
      "Test loss =0.37502631545066833 and Train loss =0.25288982738230403\n",
      "Accuracy: 81.25%\n",
      "Test loss =0.3938051760196686 and Train loss =0.2454072435352721\n",
      "Accuracy: 93.75%\n",
      "Test loss =0.35831573605537415 and Train loss =0.24062055619810818\n",
      "Accuracy: 93.75%\n",
      "Test loss =0.37744957208633423 and Train loss =0.23315901161908215\n",
      "Accuracy: 93.75%\n",
      "Test loss =0.3890179991722107 and Train loss =0.23144224375438716\n",
      "Accuracy: 87.5%\n",
      "Test loss =0.39010533690452576 and Train loss =0.2238300419422482\n",
      "Accuracy: 87.5%\n",
      "Test loss =0.3801826536655426 and Train loss =0.22872369915945953\n",
      "Accuracy: 87.5%\n",
      "Test loss =0.37535643577575684 and Train loss =0.2175271281325169\n",
      "Accuracy: 93.75%\n",
      "Test loss =0.38004356622695923 and Train loss =0.21342095220759352\n",
      "Accuracy: 93.75%\n",
      "Test loss =0.41109511256217957 and Train loss =0.21482990557816364\n",
      "Accuracy: 87.5%\n",
      "Test loss =0.3798530399799347 and Train loss =0.21504431881153507\n",
      "Accuracy: 93.75%\n",
      "Test loss =0.37778717279434204 and Train loss =0.20034963038883039\n",
      "Accuracy: 93.75%\n",
      "Test loss =0.3892463743686676 and Train loss =0.2020694827720491\n",
      "Accuracy: 87.5%\n",
      "Test loss =0.39365607500076294 and Train loss =0.2041064680401069\n",
      "Accuracy: 87.5%\n",
      "Test loss =0.4019453227519989 and Train loss =0.19604030990008034\n",
      "Accuracy: 100.0%\n",
      "Test loss =0.41018038988113403 and Train loss =0.19599312361178875\n",
      "Accuracy: 100.0%\n",
      "Test loss =0.41715720295906067 and Train loss =0.18329847708288857\n",
      "Accuracy: 93.75%\n",
      "Test loss =0.41091570258140564 and Train loss =0.19514241721679662\n",
      "Accuracy: 100.0%\n",
      "Test loss =0.4345063269138336 and Train loss =0.18523460483230125\n"
     ]
    }
   ],
   "source": [
    "model = Classifier()\n",
    "criterion = nn.NLLLoss()\n",
    "optimizer = optim.Adam(model.parameters(), lr=0.003)\n",
    "\n",
    "epochs = 30\n",
    "steps = 0\n",
    "\n",
    "train_losses, test_losses = [], []\n",
    "for e in range(epochs):\n",
    "    running_loss = 0\n",
    "    for images, labels in trainloader:\n",
    "        \n",
    "        optimizer.zero_grad()\n",
    "        \n",
    "        log_ps = model(images)\n",
    "        loss = criterion(log_ps, labels)\n",
    "        loss.backward()\n",
    "        optimizer.step()\n",
    "        \n",
    "        running_loss += loss.item()\n",
    "        \n",
    "    else:\n",
    "        ## TODO: Implement the validation pass and print out the validation accuracy\n",
    "        with torch.no_grad():\n",
    "            loss_test=0\n",
    "            for images,labels in testloader:\n",
    "                log_ps_test = model(images)\n",
    "                loss_test += criterion(log_ps_test, labels)\n",
    "                ps = torch.exp(log_ps_test)\n",
    "\n",
    "                top_p, top_class = ps.topk(1, dim=1)\n",
    "                equals = (top_class == labels.view(*top_class.shape))\n",
    "            loss_test=loss_test/len(testloader)\n",
    "            running_loss=running_loss/len(trainloader)\n",
    "            accuracy = torch.mean(equals.type(torch.FloatTensor))\n",
    "            print(f'Accuracy: {accuracy.item()*100}%')\n",
    "            print('Test loss ={} and Train loss ={}'.format(loss_test,running_loss))"
   ]
  },
  {
   "cell_type": "markdown",
   "metadata": {},
   "source": [
    "## Overfitting\n",
    "\n",
    "If we look at the training and validation losses as we train the network, we can see a phenomenon known as overfitting.\n",
    "\n",
    "<img src='assets/overfitting.png' width=450px>\n",
    "\n",
    "The network learns the training set better and better, resulting in lower training losses. However, it starts having problems generalizing to data outside the training set leading to the validation loss increasing. The ultimate goal of any deep learning model is to make predictions on new data, so we should strive to get the lowest validation loss possible. One option is to use the version of the model with the lowest validation loss, here the one around 8-10 training epochs. This strategy is called *early-stopping*. In practice, you'd save the model frequently as you're training then later choose the model with the lowest validation loss.\n",
    "\n",
    "The most common method to reduce overfitting (outside of early-stopping) is *dropout*, where we randomly drop input units. This forces the network to share information between weights, increasing it's ability to generalize to new data. Adding dropout in PyTorch is straightforward using the [`nn.Dropout`](https://pytorch.org/docs/stable/nn.html#torch.nn.Dropout) module.\n",
    "\n",
    "```python\n",
    "class Classifier(nn.Module):\n",
    "    def __init__(self):\n",
    "        super().__init__()\n",
    "        self.fc1 = nn.Linear(784, 256)\n",
    "        self.fc2 = nn.Linear(256, 128)\n",
    "        self.fc3 = nn.Linear(128, 64)\n",
    "        self.fc4 = nn.Linear(64, 10)\n",
    "        \n",
    "        # Dropout module with 0.2 drop probability\n",
    "        self.dropout = nn.Dropout(p=0.2)\n",
    "        \n",
    "    def forward(self, x):\n",
    "        # make sure input tensor is flattened\n",
    "        x = x.view(x.shape[0], -1)\n",
    "        \n",
    "        # Now with dropout\n",
    "        x = self.dropout(F.relu(self.fc1(x)))\n",
    "        x = self.dropout(F.relu(self.fc2(x)))\n",
    "        x = self.dropout(F.relu(self.fc3(x)))\n",
    "        \n",
    "        # output so no dropout here\n",
    "        x = F.log_softmax(self.fc4(x), dim=1)\n",
    "        \n",
    "        return x\n",
    "```\n",
    "\n",
    "During training we want to use dropout to prevent overfitting, but during inference we want to use the entire network. So, we need to turn off dropout during validation, testing, and whenever we're using the network to make predictions. To do this, you use `model.eval()`. This sets the model to evaluation mode where the dropout probability is 0. You can turn dropout back on by setting the model to train mode with `model.train()`. In general, the pattern for the validation loop will look like this, where you turn off gradients, set the model to evaluation mode, calculate the validation loss and metric, then set the model back to train mode.\n",
    "\n",
    "```python\n",
    "# turn off gradients\n",
    "with torch.no_grad():\n",
    "    \n",
    "    # set model to evaluation mode\n",
    "    model.eval()\n",
    "    \n",
    "    # validation pass here\n",
    "    for images, labels in testloader:\n",
    "        ...\n",
    "\n",
    "# set model back to train mode\n",
    "model.train()\n",
    "```"
   ]
  },
  {
   "cell_type": "markdown",
   "metadata": {},
   "source": [
    "> **Exercise:** Add dropout to your model and train it on Fashion-MNIST again. See if you can get a lower validation loss or higher accuracy."
   ]
  },
  {
   "cell_type": "code",
   "execution_count": 40,
   "metadata": {},
   "outputs": [],
   "source": [
    "## TODO: Define your model with dropout added\n",
    "class Network2(nn.Module):\n",
    "    def __init__(self):\n",
    "        super().__init__()\n",
    "    \n",
    "        self.fc1=nn.Linear(784,256)\n",
    "        self.fc2=nn.Linear(256,128)\n",
    "        self.fc3=nn.Linear(128,64)\n",
    "        self.fc4=nn.Linear(64,10)\n",
    "        self.dropout=nn.Dropout(p=0.2)\n",
    "    \n",
    "    def forward(self,x):\n",
    "        x = x.view(x.shape[0],-1)\n",
    "\n",
    "        x=self.dropout(F.relu(self.fc1(x)))\n",
    "        x=self.dropout(F.relu(self.fc2(x)))\n",
    "        x=self.dropout(F.relu(self.fc3(x)))   \n",
    "        x=F.log_softmax(self.fc4(x),dim=1)\n",
    "        return x\n"
   ]
  },
  {
   "cell_type": "code",
   "execution_count": 44,
   "metadata": {},
   "outputs": [
    {
     "name": "stdout",
     "output_type": "stream",
     "text": [
      "training_loss equals 0.6040075471851108 \n",
      " testing_loss equals 0.5090656280517578\n",
      "training_loss equals 0.4009312960321207 \n",
      " testing_loss equals 0.3974790871143341\n",
      "training_loss equals 0.3634203520220226 \n",
      " testing_loss equals 0.42116668820381165\n",
      "training_loss equals 0.33524493481527007 \n",
      " testing_loss equals 0.4029301106929779\n",
      "training_loss equals 0.3190015839265862 \n",
      " testing_loss equals 0.438442200422287\n",
      "training_loss equals 0.307818669452469 \n",
      " testing_loss equals 0.38373005390167236\n",
      "training_loss equals 0.29267625011869075 \n",
      " testing_loss equals 0.36660152673721313\n",
      "training_loss equals 0.28491434737690474 \n",
      " testing_loss equals 0.34767472743988037\n",
      "training_loss equals 0.27623014124249345 \n",
      " testing_loss equals 0.3698275089263916\n",
      "training_loss equals 0.26637499612261617 \n",
      " testing_loss equals 0.35783851146698\n"
     ]
    }
   ],
   "source": [
    "## TODO: Train your model with dropout, and monitor the training progress with the \n",
    "# validation loss and accuracy\n",
    "\n",
    "model=Network2()\n",
    "indicator=nn.NLLLoss()\n",
    "optimizer=optim.Adam(model.parameters(),lr=.003)\n",
    "\n",
    "\n",
    "epoch=10\n",
    "\n",
    "\n",
    "\n",
    "for e in range(epoch):\n",
    "    r_loss=0\n",
    "    for images,labels in trainloader:\n",
    "        optimizer.zero_grad()\n",
    "\n",
    "        ps= model(images)\n",
    "        loss=indicator(ps,labels)\n",
    "        loss.backward()\n",
    "        optimizer.step()\n",
    "#         log_ps=torch.exp(ps)\n",
    "#         top_ps, top_class=torch.topk(log_ps)\n",
    "#         output= labels==top_ps.view(*labels.shape)\n",
    "        r_loss+=loss.item()\n",
    "#         accuracy_train=torch.mean(type(output).torch.float)\n",
    "    \n",
    "    else:\n",
    "        loss_test=0\n",
    "        accuracy_test=0\n",
    "        \n",
    "        with torch.no_grad():\n",
    "            model.eval()\n",
    "            \n",
    "            for images,labels in testloader:\n",
    "                ps_test = model(images)\n",
    "                loss_test +=indicator(ps_test,labels)\n",
    "                \n",
    "                log_ps_test = torch.exp(ps_test)\n",
    "                top_ps_test, top_class_test = log_ps_test.topk(1,dim=1)\n",
    "                output = top_class_test == labels.view(*top_class_test.shape)\n",
    "                accuracy_test += torch.mean(output.type(torch.FloatTensor))\n",
    "\n",
    "                \n",
    "\n",
    "        loss_train=r_loss/len(trainloader)\n",
    "        loss_test=loss_test/len(testloader)\n",
    "\n",
    "        print('training_loss equals {} \\n testing_loss equals {}'.format(loss_train,loss_test))\n",
    "            \n",
    "\n"
   ]
  },
  {
   "cell_type": "markdown",
   "metadata": {},
   "source": [
    "## Inference\n",
    "\n",
    "Now that the model is trained, we can use it for inference. We've done this before, but now we need to remember to set the model in inference mode with `model.eval()`. You'll also want to turn off autograd with the `torch.no_grad()` context."
   ]
  },
  {
   "cell_type": "code",
   "execution_count": 51,
   "metadata": {
    "scrolled": true
   },
   "outputs": [
    {
     "data": {
      "image/png": "[encoded data removed]",
      "text/plain": [
       "<matplotlib.figure.Figure at 0x7f0b21c7f860>"
      ]
     },
     "metadata": {
      "needs_background": "light"
     },
     "output_type": "display_data"
    }
   ],
   "source": [
    "# Import helper module (should be in the repo)\n",
    "import helper\n",
    "\n",
    "# Test out your network!\n",
    "\n",
    "model.eval()\n",
    "\n",
    "dataiter = iter(testloader)\n",
    "images, labels = dataiter.next()\n",
    "img = images[0]\n",
    "# Convert 2D image to 1D vector\n",
    "img = img.view(1, 784)\n",
    "\n",
    "# Calculate the class probabilities (softmax) for img\n",
    "with torch.no_grad():\n",
    "    output = model.forward(img)\n",
    "\n",
    "ps = torch.exp(output)\n",
    "\n",
    "# Plot the image and probabilities\n",
    "helper.view_classify(img.view(1, 28, 28), ps, version='Fashion')"
   ]
  },
  {
   "cell_type": "markdown",
   "metadata": {},
   "source": [
    "## Next Up!\n",
    "\n",
    "In the next part, I'll show you how to save your trained models. In general, you won't want to train a model everytime you need it. Instead, you'll train once, save it, then load the model when you want to train more or use if for inference."
   ]
  },
  {
   "cell_type": "code",
   "execution_count": null,
   "metadata": {},
   "outputs": [],
   "source": []
  }
 ],
 "metadata": {
  "kernelspec": {
   "display_name": "Python 3",
   "language": "python",
   "name": "python3"
  },
  "language_info": {
   "codemirror_mode": {
    "name": "ipython",
    "version": 3
   },
   "file_extension": ".py",
   "mimetype": "text/x-python",
   "name": "python",
   "nbconvert_exporter": "python",
   "pygments_lexer": "ipython3",
   "version": "3.6.3"
  }
 },
 "nbformat": 4,
 "nbformat_minor": 2
}
